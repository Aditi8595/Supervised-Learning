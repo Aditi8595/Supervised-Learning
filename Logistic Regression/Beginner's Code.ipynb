{
 "cells": [
  {
   "cell_type": "code",
   "execution_count": 5,
   "metadata": {},
   "outputs": [
    {
     "name": "stdout",
     "output_type": "stream",
     "text": [
      "As our Prediction you are ['Female' 'Male']\n",
      "[[1 1]\n",
      " [0 0]]\n"
     ]
    }
   ],
   "source": [
    "import numpy as np\n",
    "import pandas as pd\n",
    "from sklearn.linear_model import LogisticRegression\n",
    "\n",
    "data= {'length': [150,120,175,110,95,130,145,99,115,159],\n",
    "                'weight': [75,100,50,85,72,50,62,80,57,45],\n",
    "                'gender': ['Female','Male','Female','Male','Male','Male','Female','Male','Female','Female']\n",
    "                }\n",
    "\n",
    "\n",
    "df=pd.DataFrame(data,columns=['length','weight','gender'])\n",
    "\n",
    "X = df[['length','weight']]\n",
    "Y = df['gender']\n",
    "from sklearn.model_selection import train_test_split\n",
    "X_train,X_test,y_train,y_test=train_test_split(X,Y,test_size=0.20,random_state=0)\n",
    "\n",
    "reger=LogisticRegression()\n",
    "reger.fit(X_train,y_train)\n",
    "\n",
    "ma=reger.predict(X_test)\n",
    "print('As our Prediction you are',ma)\n",
    "\n",
    "from sklearn import metrics\n",
    "cnf_matrix = metrics.confusion_matrix(y_test,ma)\n",
    "print(cnf_matrix)\n"
   ]
  },
  {
   "cell_type": "code",
   "execution_count": null,
   "metadata": {},
   "outputs": [],
   "source": []
  }
 ],
 "metadata": {
  "kernelspec": {
   "display_name": "Python 3",
   "language": "python",
   "name": "python3"
  },
  "language_info": {
   "codemirror_mode": {
    "name": "ipython",
    "version": 3
   },
   "file_extension": ".py",
   "mimetype": "text/x-python",
   "name": "python",
   "nbconvert_exporter": "python",
   "pygments_lexer": "ipython3",
   "version": "3.7.6"
  }
 },
 "nbformat": 4,
 "nbformat_minor": 4
}
